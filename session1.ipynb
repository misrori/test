{
  "nbformat": 4,
  "nbformat_minor": 0,
  "metadata": {
    "colab": {
      "provenance": [],
      "authorship_tag": "ABX9TyO28trxxvEj5Iemb9tYqbkM",
      "include_colab_link": true
    },
    "kernelspec": {
      "name": "python3",
      "display_name": "Python 3"
    },
    "language_info": {
      "name": "python"
    }
  },
  "cells": [
    {
      "cell_type": "markdown",
      "metadata": {
        "id": "view-in-github",
        "colab_type": "text"
      },
      "source": [
        "<a href=\"https://colab.research.google.com/github/misrori/test/blob/main/session1.ipynb\" target=\"_parent\"><img src=\"https://colab.research.google.com/assets/colab-badge.svg\" alt=\"Open In Colab\"/></a>"
      ]
    },
    {
      "cell_type": "markdown",
      "source": [
        "# Day 1\n",
        "What can you expect during the courses?\n",
        "\n",
        "Places where you can code\n",
        "\n",
        "\n",
        "*   Replit\n",
        "*   Drive\n",
        "*   Local environment\n",
        "*   Cloud environment\n",
        "\n",
        "\n",
        "Github\n",
        "\n",
        "\n",
        "\n"
      ],
      "metadata": {
        "id": "bxlt0f4-XPMf"
      }
    },
    {
      "cell_type": "markdown",
      "source": [
        "# Data types"
      ],
      "metadata": {
        "id": "Mn8HUrKzTzYm"
      }
    },
    {
      "cell_type": "code",
      "source": [
        "\n",
        "# Integer (int): Represents whole numbers.\n",
        "my_integer = 42\n",
        "\n",
        "# Floating-Point (float): Represents decimal numbers.\n",
        "my_float = 3.14\n",
        "\n",
        "# String (str): Represents text, enclosed in single or double quotes.\n",
        "my_string = \"Hello, World!\"\n",
        "\n",
        "# Boolean (bool): Represents True or False values.\n",
        "my_boolean = True\n",
        "\n",
        "# List: An ordered collection of items, can contain mixed data types.\n",
        "my_list = [1, 2, 3, \"apple\", True]\n",
        "\n",
        "# Tuple: Similar to a list, but immutable (cannot be changed once defined).\n",
        "my_tuple = (1, 2, 3, \"banana\", False)\n",
        "\n",
        "# Dictionary (dict): Represents a collection of key-value pairs.\n",
        "my_dict = {\"name\": \"Alice\", \"age\": 30, \"city\": \"Wonderland\"}\n",
        "\n",
        "# NoneType (None): Represents the absence of a value or a null value.\n",
        "my_none = None\n"
      ],
      "metadata": {
        "id": "qtgOGVR8TXEI"
      },
      "execution_count": null,
      "outputs": []
    },
    {
      "cell_type": "markdown",
      "source": [
        "## Math\n"
      ],
      "metadata": {
        "id": "eav3huG9Yirv"
      }
    },
    {
      "cell_type": "code",
      "execution_count": null,
      "metadata": {
        "colab": {
          "base_uri": "https://localhost:8080/"
        },
        "id": "XaIZdRibXNJ5",
        "outputId": "a7e4045b-f478-4614-bb36-e0fdf6d94579"
      },
      "outputs": [
        {
          "output_type": "stream",
          "name": "stdout",
          "text": [
            "10\n",
            "64\n",
            "4\n",
            "1\n",
            "4.698630136986301\n",
            "5\n",
            "4.699\n"
          ]
        }
      ],
      "source": [
        "a = 2\n",
        "b = 8\n",
        "print(a+b) # - * /\n",
        "print(b**a) # power of\n",
        "print(9//2) # division for whole number\n",
        "print(9%2) # modulo division (return with remainder)\n",
        "print(343/73)\n",
        "print(round(343/73))\n",
        "print(round(343/73, 3))"
      ]
    },
    {
      "cell_type": "markdown",
      "source": [
        "# Input, type conversion\n"
      ],
      "metadata": {
        "id": "bNNSIgf6bAJK"
      }
    },
    {
      "cell_type": "code",
      "source": [
        "height = input(\"What is your height in cm? \")\n",
        "print(str(height ))\n",
        "print(type(height ))\n",
        "\n",
        "height_number = int(height)\n",
        "print(str(height_number ))\n",
        "print(type(height_number ))\n",
        "\n",
        "height_float = float(height)\n",
        "print(str(height_float ))\n",
        "print(type(height_float ))\n",
        "\n"
      ],
      "metadata": {
        "id": "UDBWZd1Na-Sa"
      },
      "execution_count": null,
      "outputs": []
    },
    {
      "cell_type": "markdown",
      "source": [
        "# f string"
      ],
      "metadata": {
        "id": "V8rzLlJDc3sP"
      }
    },
    {
      "cell_type": "code",
      "source": [
        "a = 'Hello '\n",
        "b = 'CEU'\n",
        "\n",
        "print(a + b )\n",
        "print(f'text can come here and code {a + b}')\n",
        "\n",
        "text = \"Wien\"\n",
        "\n",
        "print(f'{text:#<20}')\n",
        "print(f'{text:_>20}')\n",
        "print(f'{text:.^20}')\n",
        "print(f'{35/32:.3f}')\n",
        "print('edaaf'.upper())\n",
        "\n"
      ],
      "metadata": {
        "colab": {
          "base_uri": "https://localhost:8080/"
        },
        "id": "nNjwZFgacfDQ",
        "outputId": "2a259175-1391-4d2d-d9a5-ce04a7d929b1"
      },
      "execution_count": null,
      "outputs": [
        {
          "output_type": "stream",
          "name": "stdout",
          "text": [
            "Hello CEU\n",
            "text can come here and code Hello CEU\n",
            "Wien################\n",
            "________________Wien\n",
            "........Wien........\n",
            "1.094\n",
            "2EDAAF\n"
          ]
        }
      ]
    },
    {
      "cell_type": "code",
      "source": [
        "from datetime import datetime\n",
        "# https://www.tutorialspoint.com/How-to-get-formatted-date-and-time-in-Python\n",
        "\n",
        "current_date = datetime.now()\n",
        "print(current_date)\n",
        "print(f\"Current date and time: {current_date:date_%Y-%m-%d time_%H:%M:%S }\")\n",
        "\n"
      ],
      "metadata": {
        "id": "bP3niZrreBCS",
        "colab": {
          "base_uri": "https://localhost:8080/"
        },
        "outputId": "22a0a5ea-4d64-4304-c9c9-4d92d00014ee"
      },
      "execution_count": null,
      "outputs": [
        {
          "output_type": "stream",
          "name": "stdout",
          "text": [
            "2023-09-19 06:14:14.613347\n",
            "Current date and time: date_2023-09-19 time_06:14:14 \n"
          ]
        }
      ]
    },
    {
      "cell_type": "markdown",
      "source": [
        "# Task Calculate the sum of 3 digits\n",
        "Type a 3 digit number: 554\n",
        "\n",
        "\n",
        "The sum of the digits is 14\n",
        "\n"
      ],
      "metadata": {
        "id": "OxKZuviMbbhv"
      }
    },
    {
      "cell_type": "code",
      "source": [
        "t = \"ABC\"\n",
        "t[1]"
      ],
      "metadata": {
        "id": "JLUXZXzdeHVx",
        "outputId": "9fee3fd7-548e-4e0c-f7cd-588807151835",
        "colab": {
          "base_uri": "https://localhost:8080/",
          "height": 36
        }
      },
      "execution_count": null,
      "outputs": [
        {
          "output_type": "execute_result",
          "data": {
            "text/plain": [
              "'B'"
            ],
            "application/vnd.google.colaboratory.intrinsic+json": {
              "type": "string"
            }
          },
          "metadata": {},
          "execution_count": 14
        }
      ]
    },
    {
      "cell_type": "code",
      "source": [
        "t_number = input('Type a 3 digit number: ')\n",
        "print(f'The some of the digits is {int(t_number[0]) + int(t_number[1]) + int(t_number[2]) }')"
      ],
      "metadata": {
        "colab": {
          "base_uri": "https://localhost:8080/"
        },
        "id": "91g04CIRcMuE",
        "outputId": "5d3d9efd-c592-4f23-cb18-cb0adc30dfeb"
      },
      "execution_count": null,
      "outputs": [
        {
          "output_type": "stream",
          "name": "stdout",
          "text": [
            "Type a 3 digit number: 554\n",
            "The some of the digits is 14\n"
          ]
        }
      ]
    },
    {
      "cell_type": "markdown",
      "source": [
        "# Task BMI Calculator\n",
        "\n",
        "![bmi-calculator-metric-formula.png](data:image/png;base64,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)"
      ],
      "metadata": {
        "id": "TjxKa6H3Yvcq"
      }
    },
    {
      "cell_type": "code",
      "source": [
        "weight = float(input(\"Enter your weight in kilograms: \"))\n",
        "height = float(input(\"Enter your height in meters: \"))\n",
        "bmi = weight / (height ** 2)\n",
        "\n",
        "print(f\"Your BMI is: {round(bmi, 2)}\") # :.2f\n"
      ],
      "metadata": {
        "id": "TTutCMwYXOgr"
      },
      "execution_count": null,
      "outputs": []
    },
    {
      "cell_type": "markdown",
      "source": [
        "# Task Tip calculator\n",
        "\n",
        "Welcome to the tip calculator!\n",
        "\n",
        "\n",
        "What was the total bill? $120\n",
        "\n",
        "\n",
        "How much tip would you like to give? 10, 12, or 15? 10\n",
        "\n",
        "\n",
        "How many people to split the bill? 5\n",
        "\n",
        "\n",
        "Each person should pay: $26.4\n"
      ],
      "metadata": {
        "id": "zhLLoo4pVHXp"
      }
    },
    {
      "cell_type": "code",
      "source": [
        "print(\"Welcome to the tip calculator!\")\n",
        "bill = float(input(\"What was the total bill? $\"))\n",
        "tip = int(input(\"How much tip would you like to give? 10, 12, or 15? \"))\n",
        "people = int(input(\"How many people to split the bill?\"))\n",
        "\n",
        "tip_as_percent = tip / 100\n",
        "total_tip_amount = bill * tip_as_percent\n",
        "total_bill = bill + total_tip_amount\n",
        "bill_per_person = total_bill / people\n",
        "final_amount = round(bill_per_person, 2)\n",
        "\n",
        "\n",
        "\n",
        "print(f\"Each person should pay: ${final_amount}\")"
      ],
      "metadata": {
        "id": "GhmMEBfsa5es"
      },
      "execution_count": null,
      "outputs": []
    },
    {
      "cell_type": "markdown",
      "source": [
        "# Udemy quiz\n",
        "\n",
        "# stack overflow, git"
      ],
      "metadata": {
        "id": "eyXKMwplD0Vp"
      }
    },
    {
      "cell_type": "code",
      "source": [
        "import string\n",
        "string.ascii_letters\n",
        "# https://docs.python.org/3/library/string.html\n",
        "# https://python-reference.readthedocs.io/en/latest/docs/str/"
      ],
      "metadata": {
        "id": "yW_uoTvdXOj8",
        "colab": {
          "base_uri": "https://localhost:8080/",
          "height": 36
        },
        "outputId": "89b9e0fc-e7a9-4af8-e22e-9e54cc187280"
      },
      "execution_count": null,
      "outputs": [
        {
          "output_type": "execute_result",
          "data": {
            "text/plain": [
              "'abcdefghijklmnopqrstuvwxyzABCDEFGHIJKLMNOPQRSTUVWXYZ'"
            ],
            "application/vnd.google.colaboratory.intrinsic+json": {
              "type": "string"
            }
          },
          "metadata": {},
          "execution_count": 29
        }
      ]
    },
    {
      "cell_type": "markdown",
      "source": [
        "# Practice\n",
        "https://codefinity.com/\n",
        "\n",
        "\n",
        "https://www.udemy.com/course/100-days-of-code/\n",
        "\n",
        "Chatgpt\n",
        "\n",
        "https://www.youtube.com/@b001\n"
      ],
      "metadata": {
        "id": "DX2Xm-jKjV8i"
      }
    }
  ]
}